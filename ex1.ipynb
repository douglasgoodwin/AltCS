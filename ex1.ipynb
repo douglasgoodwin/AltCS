{
  "nbformat": 4,
  "nbformat_minor": 0,
  "metadata": {
    "colab": {
      "name": "ex1.ipynb",
      "version": "0.3.2",
      "provenance": [],
      "include_colab_link": true
    },
    "kernelspec": {
      "name": "python3",
      "display_name": "Python 3"
    }
  },
  "cells": [
    {
      "cell_type": "markdown",
      "metadata": {
        "id": "view-in-github",
        "colab_type": "text"
      },
      "source": [
        "<a href=\"https://colab.research.google.com/github/douglasgoodwin/AltCS/blob/master/ex1.ipynb\" target=\"_parent\"><img src=\"https://colab.research.google.com/assets/colab-badge.svg\" alt=\"Open In Colab\"/></a>"
      ]
    },
    {
      "cell_type": "markdown",
      "metadata": {
        "id": "xTNd_w8lCdjI",
        "colab_type": "text"
      },
      "source": [
        "## Exercise 1A\n",
        "\n",
        "It is a good idea to read this book in front of a computer so you can try out the examples as you go.\n",
        "\n",
        "Whenever you are experimenting with a new feature, you should try to make mistakes. For example, in the “Hello, world!” program, what happens if you leave out one of the quotation marks? What if you leave out both? What if you spell **print** wrong?\n",
        "\n",
        "This kind of experiment helps you remember what you read; it also helps when you are programming, because you get to know what the error messages mean. It is better to make mistakes now and on purpose than later and accidentally.\n",
        "\n",
        " - In a print statement, what happens if you leave out one of the parentheses, or both?\n",
        " - If you are trying to print a string, what happens if you leave out one of the quotation marks, or both?\n",
        " - You can use a minus sign to make a negative number like -2. What happens if you put a plus sign before a number? What about 2++2?\n",
        " - In math notation, leading zeros are ok, as in 09. What happens if you try this in Python? What about 011?\n",
        " - What happens if you have two values with no operator between them?\n",
        " "
      ]
    },
    {
      "cell_type": "code",
      "metadata": {
        "id": "KclbyOpzCY2S",
        "colab_type": "code",
        "colab": {}
      },
      "source": [
        "print(\"Hi\""
      ],
      "execution_count": 0,
      "outputs": []
    },
    {
      "cell_type": "markdown",
      "metadata": {
        "id": "tvMZywGTC9Kf",
        "colab_type": "text"
      },
      "source": [
        "## Exercise 1B\n",
        "Start the Python interpreter and use it as a calculator.\n",
        "How many seconds are there in 42 minutes 42 seconds?\n",
        "How many miles are there in 10 kilometers? Hint: there are 1.61 kilometers in a mile.\n",
        "\n",
        "If you run a 10 kilometer race in 42 minutes 42 seconds, what is your average pace (time per mile in minutes and seconds)? What is your average speed in miles per hour?\n"
      ]
    },
    {
      "cell_type": "code",
      "metadata": {
        "id": "zLx3Cr-7DFsT",
        "colab_type": "code",
        "colab": {}
      },
      "source": [
        "secsinaminute = 60\n",
        "(42*secsinaminute) + 42"
      ],
      "execution_count": 0,
      "outputs": []
    },
    {
      "cell_type": "code",
      "metadata": {
        "id": "qqcV95cvDmJ4",
        "colab_type": "code",
        "colab": {}
      },
      "source": [
        ""
      ],
      "execution_count": 0,
      "outputs": []
    }
  ]
}